{
  "nbformat": 4,
  "nbformat_minor": 0,
  "metadata": {
    "colab": {
      "provenance": [],
      "authorship_tag": "ABX9TyOgopkCoHM7Nc/SOSP9Bv6w",
      "include_colab_link": true
    },
    "kernelspec": {
      "name": "python3",
      "display_name": "Python 3"
    },
    "language_info": {
      "name": "python"
    }
  },
  "cells": [
    {
      "cell_type": "markdown",
      "metadata": {
        "id": "view-in-github",
        "colab_type": "text"
      },
      "source": [
        "<a href=\"https://colab.research.google.com/github/sreent/machine-learning-from-scratch/blob/main/k_Nearest_Neighbours.ipynb\" target=\"_parent\"><img src=\"https://colab.research.google.com/assets/colab-badge.svg\" alt=\"Open In Colab\"/></a>"
      ]
    },
    {
      "cell_type": "code",
      "execution_count": 1,
      "metadata": {
        "id": "a0E8Rl7wNNGp"
      },
      "outputs": [],
      "source": [
        "import numpy as np\n",
        "import pandas as pd\n",
        "from itertools import product \n",
        "import matplotlib.pyplot as plt\n",
        "from matplotlib.colors import ListedColormap"
      ]
    },
    {
      "cell_type": "code",
      "source": [
        "class Metrics :\n",
        "  def __init__(self) :\n",
        "    \"\"\"initialise distance compute engine\"\"\"\n",
        "    self.metrics = {'accuracy': self.accuracy_score}\n",
        "\n",
        "  def accuracy_score(self, y_true, y_pred) :\n",
        "    \"\"\"compute accuracy score from ground truth y_true and prediction y_pred\"\"\"\n",
        "    return np.sum(y_true == y_pred) / len(y_true)\n",
        "\n",
        "  def error_score(self, y_true, y_pred) :\n",
        "    \"\"\"compute error score from ground truth y_true and prediction y_pred\"\"\"\n",
        "    return 1 - self.accuracy_score(y_true, y_pred)\n",
        "\n",
        "  def precision_score(self, y_true, y_pred) :\n",
        "    \"\"\"compute precision score from ground truth y_true and prediction y_pred\"\"\"\n",
        "    precision = []\n",
        "    for label in list(set(list(y_pred))) :\n",
        "      precision.append( np.sum(np.logical_and(y_test==y_pred, y_pred==label)) / len(y_pred[y_pred==label]) )\n",
        "\n",
        "    return np.array(precision).mean()\n",
        "\n",
        "  def recall_score(self, y_true, y_pred) :\n",
        "    \"\"\"compute recall score from ground truth y_true and prediction y_pred\"\"\"\n",
        "    recall = []\n",
        "    for label in list(set(list(y_pred))) :\n",
        "      recall.append( np.sum(np.logical_and(y_true==y_pred, y_true==label)) / len(y_true[y_true==label]) )\n",
        "\n",
        "    return np.array(recall).mean()\n",
        "\n",
        "  def confusion_matrix(self, y_true, y_pred, labels=None) :\n",
        "    \"\"\"compute confusion matrix from ground truth y_true and prediction y_pred\"\"\"\n",
        "    labels = list(set(list(y_true) + list(y_pred))) if labels is None else labels\n",
        "    labels.sort()\n",
        "\n",
        "    matrix = {}\n",
        "    for prod in list(product(labels, repeat=2)) :\n",
        "      matrix[prod] = np.sum(np.logical_and(y_true==prod[0], y_pred==prod[1]))\n",
        "\n",
        "    return np.array(list(matrix.values())).reshape((len(labels), len(labels)))\n",
        "\n",
        "  def get_score(self, y_true, y_pred, metric='accuracy') :\n",
        "    \"\"\"compute prediction score based on a give metric\"\"\"\n",
        "    return self.metrics[metric](y_true, y_pred)"
      ],
      "metadata": {
        "id": "bPTubl0RPXjI"
      },
      "execution_count": 32,
      "outputs": []
    },
    {
      "cell_type": "code",
      "source": [
        "class Distances :\n",
        "  def __init__(self) :\n",
        "    \"\"\"initialise distance compute engine\"\"\"\n",
        "    self.metrics = {'euclidean': self.euclidean,\n",
        "                    'manhattan': self.manhattan,\n",
        "                    'cosine_similarity': self.cosine_similarity}\n",
        "\n",
        "  def difference(self, x, y) :\n",
        "    \"\"\"compute difference between between set of vectors x and y\"\"\"\n",
        "    return x.reshape(x.shape[0], 1, x.shape[1]) - y\n",
        "\n",
        "  def dot(self, x, y) :\n",
        "    \"\"\"compute dot product between set of vectors x and y\"\"\"\n",
        "    return np.sum(x.reshape(x.shape[0], 1, x.shape[1]) * y, axis=2)\n",
        "\n",
        "  def pnorm(self, x, p) :\n",
        "    \"\"\"compute minkowski p-norm of a vector x\"\"\"\n",
        "    return np.sum(np.abs(x)**p, axis=2)**(1/p)\n",
        "\n",
        "  def euclidean(self, x, y) :\n",
        "    \"\"\"compute L2 Norm between vectors x and y\"\"\"\n",
        "    return self.pnorm(self.difference(x, y), 2)\n",
        "\n",
        "  def manhattan(self, x, y) :\n",
        "    \"\"\"compute L1 Norm between vectors x and y\"\"\"\n",
        "    return self.pnorm(self.difference(x, y), 1)\n",
        "\n",
        "  def cosine_similarity(self, x, y) :\n",
        "    \"\"\"compute Cosine Similarity between vectors x and y\"\"\"\n",
        "    return 1 - self.dot(x, y) / (self.pnorm(x.reshape(x.shape[0], 1, x.shape[1]), 2) * self.pnorm(y.reshape(y.shape[0], 1, y.shape[1]), 2).T)\n",
        "\n",
        "  def pairwise(self, x, y, metric='euclidean') :\n",
        "    \"\"\"compute pairwise distance between x and y using a given norm (metric)\"\"\"\n",
        "    return self.metrics[metric](x, y)  "
      ],
      "metadata": {
        "id": "egrR7KZCQVEM"
      },
      "execution_count": 3,
      "outputs": []
    },
    {
      "cell_type": "code",
      "source": [
        "class NearestNeighbours :\n",
        "  def __init__(self, k=None, metric='euclidean') :\n",
        "    \"\"\"initialise model, assign values to k and metric parameters\"\"\"\n",
        "    self.k = k\n",
        "    self.metric = metric\n",
        "\n",
        "  def fit(self, X, y=None) :\n",
        "    \"\"\"direct assignment of training data to the model parameters (instantance based learning)\"\"\"\n",
        "    self.X = X\n",
        "    self.y = y\n",
        "\n",
        "  def kneighbours(self, q, k=None, distance=True, label=False) :\n",
        "    \"\"\"given (a) query point(s), search for k neighbours\"\"\"\n",
        "    k = self.k if k is None else k\n",
        "\n",
        "    distances = Distances().pairwise(self.X, q, self.metric)\n",
        "    indices = np.argsort(distances, axis=0)[:k,:]\n",
        "\n",
        "    return_values = (self.X[indices,:], )\n",
        "    if distance == True :\n",
        "      return_values += (distances[indices], )\n",
        "\n",
        "    if (label == True) & (self.y is not None) :\n",
        "      return_values += (self.y[indices], )\n",
        "\n",
        "    return return_values\n",
        "\n",
        "  def predict(self, q, k=None) :\n",
        "    \"\"\"compute the majority class from k neighbours\"\"\"\n",
        "    k = self.k if k is None else k\n",
        "\n",
        "    neighbours, labels = self.kneighbours(q, k, distance=False, label=True)\n",
        "\n",
        "    return np.apply_along_axis(lambda x: np.bincount(x).argmax(), axis=0, arr=labels)"
      ],
      "metadata": {
        "id": "ZlXKh_IkXOoR"
      },
      "execution_count": 4,
      "outputs": []
    },
    {
      "cell_type": "code",
      "source": [
        "def train_test_split(X, y, test_size=0.3, shuffle=True, seed=204) :\n",
        "  \"\"\"split data into train and test sets with (1-test_size):(test_size) proportion\"\"\"\n",
        "\n",
        "  indices = np.array([])\n",
        "  if shuffle == True :\n",
        "    p = np.random.RandomState(seed).uniform(0, 1, X.shape[0])\n",
        "    indices = np.random.choice(range(X.shape[0]), size=X.shape[0], replace=False, p=p/p.sum())\n",
        "  else :\n",
        "    indices = range(X.shape[0])\n",
        "\n",
        "  size = int(np.ceil(X.shape[0]*(1-test_size)))\n",
        "  samples = indices[:size]\n",
        "  X_train, y_train = X[samples, :], y[samples]\n",
        "\n",
        "  samples = indices[size:]\n",
        "  X_test, y_test = X[samples, :], y[samples]\n",
        "\n",
        "  return X_train, X_test, y_train, y_test"
      ],
      "metadata": {
        "id": "A9Fa0l77wtBn"
      },
      "execution_count": 19,
      "outputs": []
    },
    {
      "cell_type": "code",
      "source": [
        "class GridSearchCV :\n",
        "   def __init__(self, model=None, params={}, scoring='accuracy', cv=5) :\n",
        "     \"\"\"initialise model, assign values to k and metric parameters\"\"\"\n",
        "     self.model = model\n",
        "     self.params = params\n",
        "     self.scoring = scoring\n",
        "     self.cv = cv\n",
        "\n",
        "   def fit(self, X, y) :\n",
        "     \"\"\"perform k-fold cross-validation. \n",
        "        finding best hyper-parameters and evaluating prediction performance \n",
        "        for each set of parameters and fold\"\"\"\n",
        "     size = int( np.ceil(X.shape[0]/self.cv) )  \n",
        "     folds = {k: {'min': k*size, 'max': (k+1)*size} for k in range(self.cv)}\n",
        "\n",
        "     keys, values = zip(*self.params.items())\n",
        "     evaluations = []\n",
        "     for config in [dict(zip(keys, v)) for v in product(*values)] :\n",
        "       scores = []\n",
        "       confusion_matrices = []\n",
        "       for (k, partition) in folds.items() :\n",
        "         X_train, y_train = np.concatenate( (X[:partition['min'], :], X[partition['max']:, :]) ), np.concatenate( (y[:partition['min']], y[partition['max']:]) )\n",
        "         X_test, y_test = X[partition['min']:partition['max'], :], y[partition['min']:partition['max']]\n",
        "         \n",
        "         self.model.__init__(**config)\n",
        "         self.model.fit(X_train, y_train)\n",
        "         \n",
        "         y_pred = self.model.predict(X_test)\n",
        "         scores.append( Metrics().get_score(y_test, y_pred, metric=self.scoring) )\n",
        "         confusion_matrices.append( Metrics().confusion_matrix(y_test, y_pred) )\n",
        "         \n",
        "       evaluations.append( [config, np.mean(scores), scores, confusion_matrices] )\n",
        "         \n",
        "     evaluations = pd.DataFrame(data=evaluations, columns=['parameters', 'score', 'scores', 'confusion_matrices'])\n",
        "     best = evaluations.sort_values(by=['score'], ascending=False).iloc[0]\n",
        "     \n",
        "     evaluations.rename({'score': 'average_' + self.scoring + '_score',\n",
        "                         'scores': self.scoring + '_scores'}, axis='columns', inplace=True)\n",
        "     \n",
        "     self.evaluations = evaluations\n",
        "\n",
        "     self.best_params, self.best_score = best.values[:2]\n",
        "\n",
        "     self.model.__init__(**self.best_params)\n",
        "     self.model.fit(X, y)"
      ],
      "metadata": {
        "id": "4TPq7ebotF33"
      },
      "execution_count": 6,
      "outputs": []
    },
    {
      "cell_type": "code",
      "source": [
        "# simulated data - 2 classes\n",
        "points = 1000\n",
        "X, y = [], []\n",
        "for i in range(points) :\n",
        "  if np.random.random() > 0.5 :\n",
        "    X.append([np.random.normal(0.0, 0.9), np.random.normal(0.0, 0.9)])\n",
        "    y.append(0)\n",
        "\n",
        "  else :\n",
        "    X.append([np.random.normal(3.0, 0.7), np.random.normal(1.0, 0.7)])\n",
        "    y.append(1)\n",
        "\n",
        "X, y = np.array(X), np.array(y)\n",
        "\n",
        "colors = ['red','blue']\n",
        "plt.scatter(X[:,0], X[:,1], c=y, cmap=ListedColormap(colors))\n",
        "plt.grid()\n",
        "_ = plt.show()"
      ],
      "metadata": {
        "colab": {
          "base_uri": "https://localhost:8080/",
          "height": 265
        },
        "id": "VzQ4TVagWXhC",
        "outputId": "eec46ad8-44e4-41ff-c6c9-534b34b4bb70"
      },
      "execution_count": 7,
      "outputs": [
        {
          "output_type": "display_data",
          "data": {
            "text/plain": [
              "<Figure size 432x288 with 1 Axes>"
            ],
            "image/png": "[encoded data removed]"
          },
          "metadata": {
            "needs_background": "light"
          }
        }
      ]
    },
    {
      "cell_type": "code",
      "source": [
        "# train-test split usage example\n",
        "X_train, X_test, y_train, y_test = train_test_split(X, y, test_size=0.3, shuffle=True, seed=204)"
      ],
      "metadata": {
        "id": "HnP8FJgeozOk"
      },
      "execution_count": 20,
      "outputs": []
    },
    {
      "cell_type": "code",
      "source": [
        "# k-NN usage examples\n",
        "model = NearestNeighbours(k=3, metric='euclidean')\n",
        "model.fit(X_train, y_train)\n",
        "y_pred = model.predict(X_test, k=3)"
      ],
      "metadata": {
        "id": "w4ENDygjorNR"
      },
      "execution_count": 21,
      "outputs": []
    },
    {
      "cell_type": "code",
      "source": [
        "# usage examples of accuracy, confusion metrics\n",
        "print(\"accuracy:\", Metrics().accuracy_score(y_test, y_pred))\n",
        "print(\"error:\", Metrics().error_score(y_test, y_pred))\n",
        "print(\"precision:\", Metrics().precision_score(y_test, y_pred))\n",
        "print(\"recall:\", Metrics().recall_score(y_test, y_pred))\n",
        "print(\"confusion matrix:\", Metrics().confusion_matrix(y_test, y_pred))"
      ],
      "metadata": {
        "colab": {
          "base_uri": "https://localhost:8080/"
        },
        "id": "X43-aQtlo_LZ",
        "outputId": "2c86d835-10b0-47c4-ab75-9439ce165214"
      },
      "execution_count": 33,
      "outputs": [
        {
          "output_type": "stream",
          "name": "stdout",
          "text": [
            "accuracy: 0.9766666666666667\n",
            "error: 0.023333333333333317\n",
            "precision: 0.9767628205128205\n",
            "recall: 0.9765294771968853\n",
            "confusion matrix: [[141   4]\n",
            " [  3 152]]\n"
          ]
        }
      ]
    },
    {
      "cell_type": "code",
      "source": [
        "# cross validation usage example\n",
        "params = {'k': list(range(1,20)),\n",
        "          'metric': ['euclidean', 'manhattan']}\n",
        "          \n",
        "clf = GridSearchCV(NearestNeighbours(), params=params, scoring='accuracy', cv=5)\n",
        "clf.fit(X, y)"
      ],
      "metadata": {
        "id": "lwx_qC1-DDdy"
      },
      "execution_count": 11,
      "outputs": []
    },
    {
      "cell_type": "code",
      "source": [
        "clf.best_params, clf.best_score"
      ],
      "metadata": {
        "colab": {
          "base_uri": "https://localhost:8080/"
        },
        "id": "J0f3KncoEqOD",
        "outputId": "b5ba9767-b165-45d1-bb16-842f04975b2e"
      },
      "execution_count": 12,
      "outputs": [
        {
          "output_type": "execute_result",
          "data": {
            "text/plain": [
              "({'k': 3, 'metric': 'euclidean'}, 0.986)"
            ]
          },
          "metadata": {},
          "execution_count": 12
        }
      ]
    },
    {
      "cell_type": "code",
      "source": [
        "clf.evaluations.head()"
      ],
      "metadata": {
        "colab": {
          "base_uri": "https://localhost:8080/",
          "height": 206
        },
        "id": "7sSTeMTdgvb1",
        "outputId": "6599a0d1-8b2a-4226-c00c-a01a37fcddc4"
      },
      "execution_count": 13,
      "outputs": [
        {
          "output_type": "execute_result",
          "data": {
            "text/plain": [
              "                        parameters  average_accuracy_score  \\\n",
              "0  {'k': 1, 'metric': 'euclidean'}                   0.979   \n",
              "1  {'k': 1, 'metric': 'manhattan'}                   0.978   \n",
              "2  {'k': 2, 'metric': 'euclidean'}                   0.972   \n",
              "3  {'k': 2, 'metric': 'manhattan'}                   0.975   \n",
              "4  {'k': 3, 'metric': 'euclidean'}                   0.986   \n",
              "\n",
              "                      accuracy_scores  \\\n",
              "0     [0.97, 0.98, 0.97, 0.99, 0.985]   \n",
              "1  [0.975, 0.975, 0.975, 0.985, 0.98]   \n",
              "2    [0.97, 0.965, 0.965, 0.98, 0.98]   \n",
              "3     [0.97, 0.97, 0.97, 0.99, 0.975]   \n",
              "4    [0.98, 0.985, 0.985, 0.99, 0.99]   \n",
              "\n",
              "                                  confusion_matrices  \n",
              "0  [[[115, 3], [3, 79]], [[102, 1], [3, 94]], [[9...  \n",
              "1  [[[115, 3], [2, 80]], [[102, 1], [4, 93]], [[9...  \n",
              "2  [[[116, 2], [4, 78]], [[102, 1], [6, 91]], [[9...  \n",
              "3  [[[116, 2], [4, 78]], [[102, 1], [5, 92]], [[9...  \n",
              "4  [[[115, 3], [1, 81]], [[101, 2], [1, 96]], [[9...  "
            ],
            "text/html": [
              "\n",
              "  <div id=\"df-e4dd0465-b908-4f66-bda1-d104fa6d478b\">\n",
              "    <div class=\"colab-df-container\">\n",
              "      <div>\n",
              "<style scoped>\n",
              "    .dataframe tbody tr th:only-of-type {\n",
              "        vertical-align: middle;\n",
              "    }\n",
              "\n",
              "    .dataframe tbody tr th {\n",
              "        vertical-align: top;\n",
              "    }\n",
              "\n",
              "    .dataframe thead th {\n",
              "        text-align: right;\n",
              "    }\n",
              "</style>\n",
              "<table border=\"1\" class=\"dataframe\">\n",
              "  <thead>\n",
              "    <tr style=\"text-align: right;\">\n",
              "      <th></th>\n",
              "      <th>parameters</th>\n",
              "      <th>average_accuracy_score</th>\n",
              "      <th>accuracy_scores</th>\n",
              "      <th>confusion_matrices</th>\n",
              "    </tr>\n",
              "  </thead>\n",
              "  <tbody>\n",
              "    <tr>\n",
              "      <th>0</th>\n",
              "      <td>{'k': 1, 'metric': 'euclidean'}</td>\n",
              "      <td>0.979</td>\n",
              "      <td>[0.97, 0.98, 0.97, 0.99, 0.985]</td>\n",
              "      <td>[[[115, 3], [3, 79]], [[102, 1], [3, 94]], [[9...</td>\n",
              "    </tr>\n",
              "    <tr>\n",
              "      <th>1</th>\n",
              "      <td>{'k': 1, 'metric': 'manhattan'}</td>\n",
              "      <td>0.978</td>\n",
              "      <td>[0.975, 0.975, 0.975, 0.985, 0.98]</td>\n",
              "      <td>[[[115, 3], [2, 80]], [[102, 1], [4, 93]], [[9...</td>\n",
              "    </tr>\n",
              "    <tr>\n",
              "      <th>2</th>\n",
              "      <td>{'k': 2, 'metric': 'euclidean'}</td>\n",
              "      <td>0.972</td>\n",
              "      <td>[0.97, 0.965, 0.965, 0.98, 0.98]</td>\n",
              "      <td>[[[116, 2], [4, 78]], [[102, 1], [6, 91]], [[9...</td>\n",
              "    </tr>\n",
              "    <tr>\n",
              "      <th>3</th>\n",
              "      <td>{'k': 2, 'metric': 'manhattan'}</td>\n",
              "      <td>0.975</td>\n",
              "      <td>[0.97, 0.97, 0.97, 0.99, 0.975]</td>\n",
              "      <td>[[[116, 2], [4, 78]], [[102, 1], [5, 92]], [[9...</td>\n",
              "    </tr>\n",
              "    <tr>\n",
              "      <th>4</th>\n",
              "      <td>{'k': 3, 'metric': 'euclidean'}</td>\n",
              "      <td>0.986</td>\n",
              "      <td>[0.98, 0.985, 0.985, 0.99, 0.99]</td>\n",
              "      <td>[[[115, 3], [1, 81]], [[101, 2], [1, 96]], [[9...</td>\n",
              "    </tr>\n",
              "  </tbody>\n",
              "</table>\n",
              "</div>\n",
              "      <button class=\"colab-df-convert\" onclick=\"convertToInteractive('df-e4dd0465-b908-4f66-bda1-d104fa6d478b')\"\n",
              "              title=\"Convert this dataframe to an interactive table.\"\n",
              "              style=\"display:none;\">\n",
              "        \n",
              "  <svg xmlns=\"http://www.w3.org/2000/svg\" height=\"24px\"viewBox=\"0 0 24 24\"\n",
              "       width=\"24px\">\n",
              "    <path d=\"M0 0h24v24H0V0z\" fill=\"none\"/>\n",
              "    <path d=\"M18.56 5.44l.94 2.06.94-2.06 2.06-.94-2.06-.94-.94-2.06-.94 2.06-2.06.94zm-11 1L8.5 8.5l.94-2.06 2.06-.94-2.06-.94L8.5 2.5l-.94 2.06-2.06.94zm10 10l.94 2.06.94-2.06 2.06-.94-2.06-.94-.94-2.06-.94 2.06-2.06.94z\"/><path d=\"M17.41 7.96l-1.37-1.37c-.4-.4-.92-.59-1.43-.59-.52 0-1.04.2-1.43.59L10.3 9.45l-7.72 7.72c-.78.78-.78 2.05 0 2.83L4 21.41c.39.39.9.59 1.41.59.51 0 1.02-.2 1.41-.59l7.78-7.78 2.81-2.81c.8-.78.8-2.07 0-2.86zM5.41 20L4 18.59l7.72-7.72 1.47 1.35L5.41 20z\"/>\n",
              "  </svg>\n",
              "      </button>\n",
              "      \n",
              "  <style>\n",
              "    .colab-df-container {\n",
              "      display:flex;\n",
              "      flex-wrap:wrap;\n",
              "      gap: 12px;\n",
              "    }\n",
              "\n",
              "    .colab-df-convert {\n",
              "      background-color: #E8F0FE;\n",
              "      border: none;\n",
              "      border-radius: 50%;\n",
              "      cursor: pointer;\n",
              "      display: none;\n",
              "      fill: #1967D2;\n",
              "      height: 32px;\n",
              "      padding: 0 0 0 0;\n",
              "      width: 32px;\n",
              "    }\n",
              "\n",
              "    .colab-df-convert:hover {\n",
              "      background-color: #E2EBFA;\n",
              "      box-shadow: 0px 1px 2px rgba(60, 64, 67, 0.3), 0px 1px 3px 1px rgba(60, 64, 67, 0.15);\n",
              "      fill: #174EA6;\n",
              "    }\n",
              "\n",
              "    [theme=dark] .colab-df-convert {\n",
              "      background-color: #3B4455;\n",
              "      fill: #D2E3FC;\n",
              "    }\n",
              "\n",
              "    [theme=dark] .colab-df-convert:hover {\n",
              "      background-color: #434B5C;\n",
              "      box-shadow: 0px 1px 3px 1px rgba(0, 0, 0, 0.15);\n",
              "      filter: drop-shadow(0px 1px 2px rgba(0, 0, 0, 0.3));\n",
              "      fill: #FFFFFF;\n",
              "    }\n",
              "  </style>\n",
              "\n",
              "      <script>\n",
              "        const buttonEl =\n",
              "          document.querySelector('#df-e4dd0465-b908-4f66-bda1-d104fa6d478b button.colab-df-convert');\n",
              "        buttonEl.style.display =\n",
              "          google.colab.kernel.accessAllowed ? 'block' : 'none';\n",
              "\n",
              "        async function convertToInteractive(key) {\n",
              "          const element = document.querySelector('#df-e4dd0465-b908-4f66-bda1-d104fa6d478b');\n",
              "          const dataTable =\n",
              "            await google.colab.kernel.invokeFunction('convertToInteractive',\n",
              "                                                     [key], {});\n",
              "          if (!dataTable) return;\n",
              "\n",
              "          const docLinkHtml = 'Like what you see? Visit the ' +\n",
              "            '<a target=\"_blank\" href=https://colab.research.google.com/notebooks/data_table.ipynb>data table notebook</a>'\n",
              "            + ' to learn more about interactive tables.';\n",
              "          element.innerHTML = '';\n",
              "          dataTable['output_type'] = 'display_data';\n",
              "          await google.colab.output.renderOutput(dataTable, element);\n",
              "          const docLink = document.createElement('div');\n",
              "          docLink.innerHTML = docLinkHtml;\n",
              "          element.appendChild(docLink);\n",
              "        }\n",
              "      </script>\n",
              "    </div>\n",
              "  </div>\n",
              "  "
            ]
          },
          "metadata": {},
          "execution_count": 13
        }
      ]
    },
    {
      "cell_type": "code",
      "source": [
        "model = clf.model\n",
        "model.k, model.metric"
      ],
      "metadata": {
        "colab": {
          "base_uri": "https://localhost:8080/"
        },
        "id": "hoHf0Hr7hGSB",
        "outputId": "348fe46a-8d47-47c8-abd0-1264eb72efa1"
      },
      "execution_count": 14,
      "outputs": [
        {
          "output_type": "execute_result",
          "data": {
            "text/plain": [
              "(3, 'euclidean')"
            ]
          },
          "metadata": {},
          "execution_count": 14
        }
      ]
    },
    {
      "cell_type": "code",
      "source": [],
      "metadata": {
        "id": "Dqm-U7jKjrs9"
      },
      "execution_count": 14,
      "outputs": []
    },
    {
      "cell_type": "code",
      "source": [],
      "metadata": {
        "id": "dgvisZyvkOID"
      },
      "execution_count": 14,
      "outputs": []
    }
  ]
}